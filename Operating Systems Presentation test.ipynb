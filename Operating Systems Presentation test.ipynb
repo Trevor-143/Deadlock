{
 "cells": [
  {
   "cell_type": "code",
   "execution_count": null,
   "metadata": {},
   "outputs": [],
   "source": [
    "\n",
    "import numpy as np\n",
    "\n",
    "# Initial Parameters\n",
    "# Resource Arrangement = ['A','B','C']\n",
    "Processes = ['P1','P2','P3','P4','P5']\n",
    "Allocation = [[0,1,0],[2,0,0],[3,0,2],[2,1,1],[0,0,2]]\n",
    "Maximum = [[7,5,3],[3,2,2],[9,0,2],[2,2,2],[4,3,3]]\n",
    "Available = [8,3,2]\n",
    "\n",
    "# Processes = ['P1','P2','P3','P4','P5']\n",
    "# Allocation = [[0,1,0],[2,0,0],[3,0,2],[2,1,1],[0,0,2]]\n",
    "# Maximum = [[7,5,3],[3,2,2],[9,0,2],[2,2,2],[4,3,3]]\n",
    "# Available = [3,3,2]\n",
    "\n",
    "\n",
    "# Initiate bankers algorithm\n",
    "def BankarAlgorithm(Processes,Allocation,Maximum,Available):\n",
    "    allocationMatrix = np.array(Allocation)\n",
    "    maximumMatrix = np.array(Maximum)\n",
    "    needMatrix = maximumMatrix - allocationMatrix\n",
    "    availableMatrix = np.array(Available)\n",
    "    print('Resources in system are:', availableMatrix, '\\n')\n",
    "    TotalProcess = len(Processes)\n",
    "    safeProcess = []\n",
    "    ReadyProcess = np.zeros(TotalProcess)\n",
    "    \n",
    "    \n",
    "   # print(ReadyProcess)\n",
    "    Count = 0\n",
    "    while(Count<TotalProcess):\n",
    "        Flag = 0\n",
    "        for i in range(TotalProcess):\n",
    "            if ReadyProcess[i] == 0 and np.min(np.greater_equal(availableMatrix,needMatrix[i,:])):\n",
    "                availableMatrix += allocationMatrix[i,:]\n",
    "                print('Running Process is:', Processes[i])\n",
    "                print('After Running Process', Processes[i], ', the avalible resources are:', availableMatrix, '\\n')\n",
    "                safeProcess.append(Processes[i])\n",
    "                ReadyProcess[i] = 1\n",
    "                Flag = 1\n",
    "                Count += 1\n",
    "        if Flag == 0:\n",
    "            break\n",
    "            \n",
    "            \n",
    "    #The results\n",
    "    print('\\n==========How is your system?===========\\n------------------------------------------')\n",
    "    if Count<TotalProcess:\n",
    "        print('Warning!! Your system is DeadLocked')\n",
    "        print('The processes that can run are:  ',safeProcess)\n",
    "    else:\n",
    "        print('The system is in a safe sate')\n",
    "        print('The safe process queus is:  ',safeProcess)\n",
    "        \n",
    "        \n",
    "# Call the Function\n",
    "BankarAlgorithm(Processes,Allocation,Maximum,Available)"
   ]
  },
  {
   "cell_type": "code",
   "execution_count": null,
   "metadata": {},
   "outputs": [],
   "source": []
  }
 ],
 "metadata": {
  "kernelspec": {
   "display_name": "Python 3 (ipykernel)",
   "language": "python",
   "name": "python3"
  },
  "language_info": {
   "codemirror_mode": {
    "name": "ipython",
    "version": 3
   },
   "file_extension": ".py",
   "mimetype": "text/x-python",
   "name": "python",
   "nbconvert_exporter": "python",
   "pygments_lexer": "ipython3",
   "version": "3.10.6"
  }
 },
 "nbformat": 4,
 "nbformat_minor": 2
}
